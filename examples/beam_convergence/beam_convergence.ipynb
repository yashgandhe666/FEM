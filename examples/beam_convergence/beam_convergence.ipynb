{
 "cells": [
  {
   "cell_type": "markdown",
   "metadata": {},
   "source": [
    "# Convergence analysis for a cantilever beam\n",
    "\n",
    "\n",
    "This notebook presents convergence analysis using the Finite Element\n",
    "Method for a cantilever beam."
   ]
  },
  {
   "cell_type": "markdown",
   "metadata": {},
   "source": [
    "The following figure shows a cantelever beam under a tip load $P$. The beam is of length $l$;\n",
    "moment of inertia $I$; height $2c$ and material properties corresponding\n",
    "to Poissons ratio and Young modulos $\\nu$ and $E$ respectively.\n",
    "\n",
    "<center><img src=\"../img/beam.jpg\" alt=\"Cantilever beam\" style=\"width:600px\"></center>\n",
    "\n",
    "The analytic solution is given by (see Timoshenko):\n",
    "\n",
    "$$u =  - \\frac{P}{{2EI}}{x^2}y - \\frac{{\\nu P}}{{6EI}}{y^3} + \\frac{P}{{2IG}}{y^3} + \\left( {\\frac{{P{l^2}}}{{2EI}} - \\frac{{P{c^2}}}{{2IG}}} \\right)y$$\n",
    "\n",
    "$$v = \\frac{{\\nu P}}{{2EI}}x{y^2} + \\frac{P}{{6EI}}{x^3} - \\frac{{P{l^2}}}{{2EI}}x + \\frac{{P{l^3}}}{{3EI}}$$\n",
    "\n",
    "$${\\varepsilon _{xx}} = \\frac{{\\partial u}}{{\\partial x}} \\equiv  - \\frac{P}{{EI}}xy$$\n",
    "\n",
    "$${\\varepsilon _{yy}} = \\frac{{\\partial v}}{{\\partial y}} \\equiv \\frac{{\\nu P}}{{EI}}xy$$\n",
    "\n",
    "$${\\gamma _{xy}} = \\frac{{\\partial u}}{{\\partial y}} + \\frac{{\\partial v}}{{\\partial x}} \\equiv \\frac{P}{{2IG}}\\left( {{y^2} - {c^2}} \\right)$$\n",
    "\n",
    "The following snippet compute the solution for an array of points $x$, $y$."
   ]
  },
  {
   "cell_type": "code",
   "execution_count": null,
   "metadata": {},
   "outputs": [
    {
     "ename": "ModuleNotFoundError",
     "evalue": "No module named 'numpy'",
     "traceback": [
      "\u001b[0;31m---------------------------------------------------------------------------\u001b[0m",
      "\u001b[0;31mModuleNotFoundError\u001b[0m                       Traceback (most recent call last)",
      "\u001b[0;32m<ipython-input-2-964bacf4d529>\u001b[0m in \u001b[0;36m<module>\u001b[0;34m\u001b[0m\n\u001b[1;32m      1\u001b[0m \u001b[0;32mfrom\u001b[0m \u001b[0m__future__\u001b[0m \u001b[0;32mimport\u001b[0m \u001b[0mdivision\u001b[0m\u001b[0;34m,\u001b[0m \u001b[0mprint_function\u001b[0m\u001b[0;34m\u001b[0m\u001b[0;34m\u001b[0m\u001b[0m\n\u001b[0;32m----> 2\u001b[0;31m \u001b[0;32mimport\u001b[0m \u001b[0mnumpy\u001b[0m \u001b[0;32mas\u001b[0m \u001b[0mnp\u001b[0m\u001b[0;34m\u001b[0m\u001b[0;34m\u001b[0m\u001b[0m\n\u001b[0m\u001b[1;32m      3\u001b[0m \u001b[0;32mfrom\u001b[0m \u001b[0mscipy\u001b[0m\u001b[0;34m.\u001b[0m\u001b[0minterpolate\u001b[0m \u001b[0;32mimport\u001b[0m \u001b[0mgriddata\u001b[0m\u001b[0;34m\u001b[0m\u001b[0;34m\u001b[0m\u001b[0m\n\u001b[1;32m      4\u001b[0m \u001b[0;32mimport\u001b[0m \u001b[0mmatplotlib\u001b[0m\u001b[0;34m.\u001b[0m\u001b[0mpyplot\u001b[0m \u001b[0;32mas\u001b[0m \u001b[0mplt\u001b[0m\u001b[0;34m\u001b[0m\u001b[0;34m\u001b[0m\u001b[0m\n\u001b[1;32m      5\u001b[0m \u001b[0;32mfrom\u001b[0m \u001b[0mmatplotlib\u001b[0m \u001b[0;32mimport\u001b[0m \u001b[0mrcParams\u001b[0m\u001b[0;34m\u001b[0m\u001b[0;34m\u001b[0m\u001b[0m\n",
      "\u001b[0;31mModuleNotFoundError\u001b[0m: No module named 'numpy'"
     ],
     "output_type": "error"
    }
   ],
   "source": [
    "from __future__ import division, print_function\n",
    "import numpy as np\n",
    "from scipy.interpolate import griddata\n",
    "import matplotlib.pyplot as plt\n",
    "from matplotlib import rcParams\n",
    "from solidspy.preprocesor import rect_grid\n",
    "import solidspy.postprocesor as pos\n",
    "import solidspy.assemutil as ass\n",
    "import solidspy.solutil as sol"
   ]
  },
  {
   "cell_type": "code",
   "execution_count": 2,
   "metadata": {},
   "outputs": [],
   "source": [
    "%matplotlib notebook\n",
    "\n",
    "\n",
    "rcParams['figure.figsize'] = 6, 4\n",
    "rcParams['font.family'] = 'serif'\n",
    "rcParams['font.size'] = 12"
   ]
  },
  {
   "cell_type": "code",
   "execution_count": 3,
   "metadata": {},
   "outputs": [],
   "source": [
    "def beam_sln(x, y, nu, P, E, I, L, h):\n",
    "    \"\"\"Compute the solution for a cantilever beam\n",
    "\n",
    "    Parameters\n",
    "    ----------\n",
    "    x : ndarray (float)\n",
    "        Array with x coordinates.\n",
    "    y : ndarray (float)\n",
    "        Array with y coordinates.\n",
    "    nu : float, (-1, 0.5)\n",
    "        Poisson coefficient.\n",
    "    P : float\n",
    "        Applied force at the end of the beam.\n",
    "    E : float, >0\n",
    "        Young modulus.\n",
    "    I : float, >0\n",
    "        Moment of inertia.\n",
    "    L : float, >0\n",
    "        Length of the beam.\n",
    "    h : float, >0\n",
    "        Height of the beam.\n",
    "\n",
    "    Returns\n",
    "    -------\n",
    "    u : ndarray (float)\n",
    "        Horizontal displacement at the nodes.\n",
    "    v : ndarray (float)\n",
    "        Vertical displacement at the nodes.\n",
    "    exx : ndarray (float)\n",
    "        xx component of the strain tensor.\n",
    "    eyy : ndarray (float)\n",
    "        yy component of the strain tensor.\n",
    "    gammaxy : ndarray (float)\n",
    "        xy component of the strain tensor.\n",
    "        \n",
    "    References\n",
    "    ----------\n",
    "    .. [1] Timoshenko, S. & Goodier, J., 1970. Theory of Elasticity,\n",
    "        McGraw-Hill, 3rd Ed.\n",
    "\n",
    "    \"\"\"\n",
    "    G = E/(2*(1 + nu))\n",
    "    c = h/2\n",
    "    C1 = -P/(2*E*I)\n",
    "    C2 = -(nu*P)/(6*E*I)\n",
    "    C3 = P/(2*I*G)\n",
    "    C4 = (P*L**2)/(2*E*I)\n",
    "    C5 = -(P*c**2)/(2*I*G)\n",
    "    C6 = C4 + C5\n",
    "    C7 = (nu*P)/(2*E*I)\n",
    "    C8 = P/(6*E*I)\n",
    "    C9 = -(P*L**2)/(2*E*I)\n",
    "    C10 = (P*L**3)/(3*E*I)\n",
    "    B1 = -P/(E*I)\n",
    "    B2 = (nu*P)/(E*I)\n",
    "    B3 = P/(2*I*G)\n",
    "    u = C1*y*x**2 + C2*y**3 + C3*y**3 + (C5 + C6)*y\n",
    "    v = C7*x*y**2 + C8*x**3 + C9*x + C10\n",
    "    exx = B1*x*y\n",
    "    eyy = B2*x*y\n",
    "    gammaxy = B3*(y**2 - c**2)\n",
    "\n",
    "    return u, v, exx, eyy, gammaxy"
   ]
  },
  {
   "cell_type": "code",
   "execution_count": 4,
   "metadata": {},
   "outputs": [],
   "source": [
    "nu, P, E, I, L, h = 0.3, -50, 1000, 42.67, 24, 4\n",
    "x = np.linspace(0, L, 100)\n",
    "y = np.linspace(-h, h, 100)\n",
    "x, y  = np.meshgrid(x, y)\n",
    "u, v, exx, eyy, gammaxy  = beam_sln(x, y, nu, P, E, I, L, h)"
   ]
  },
  {
   "cell_type": "code",
   "execution_count": 5,
   "metadata": {},
   "outputs": [],
   "source": []
  },
  {
   "cell_type": "markdown",
   "metadata": {},
   "source": [
    "The particular solution for parameters $E=1000.0$, $P=-50$ $\\nu=0.30$, $I=42.67$,\n",
    "$l=24$ and $2c=8$ is shown below:"
   ]
  },
  {
   "cell_type": "code",
   "execution_count": 5,
   "metadata": {},
   "outputs": [
    {
     "data": {
      "text/plain": [
       "<IPython.core.display.Javascript object>"
      ]
     },
     "execution_count": 0,
     "metadata": {},
     "output_type": "execute_result"
    },
    {
     "data": {
      "text/html": [
       "<div id='ebff90f2-4ea7-4801-8039-b8717fc2a3cc'></div>"
      ],
      "text/plain": [
       "<div id='ebff90f2-4ea7-4801-8039-b8717fc2a3cc'></div>"
      ]
     },
     "execution_count": 0,
     "metadata": {},
     "output_type": "execute_result"
    },
    {
     "data": {
      "text/plain": [
       "(0.0, 24.0, -4.0, 4.0)"
      ]
     },
     "execution_count": 5,
     "metadata": {},
     "output_type": "execute_result"
    }
   ],
   "source": [
    "plt.figure()\n",
    "plt.contourf(x, y, u, 10)\n",
    "plt.axis(\"image\")\n"
   ]
  },
  {
   "cell_type": "code",
   "execution_count": 6,
   "metadata": {},
   "outputs": [
    {
     "data": {
      "text/plain": [
       "<IPython.core.display.Javascript object>"
      ]
     },
     "execution_count": 0,
     "metadata": {},
     "output_type": "execute_result"
    },
    {
     "data": {
      "text/html": [
       "<div id='f424ae03-99b3-487b-a84f-774f251589d3'></div>"
      ],
      "text/plain": [
       "<div id='f424ae03-99b3-487b-a84f-774f251589d3'></div>"
      ]
     },
     "execution_count": 0,
     "metadata": {},
     "output_type": "execute_result"
    },
    {
     "data": {
      "text/plain": [
       "(0.0, 24.0, -4.0, 4.0)"
      ]
     },
     "execution_count": 6,
     "metadata": {},
     "output_type": "execute_result"
    }
   ],
   "source": [
    "plt.figure()\n",
    "plt.contourf(x, y, v, 10)\n",
    "plt.axis(\"image\")"
   ]
  },
  {
   "cell_type": "markdown",
   "metadata": {},
   "source": [
    "We also want to analyze this problem using the FEM with bilineal square elements under plane stress conditions.\n",
    "\n",
    "Since this is a structured mesh it is easily generated in a simple function."
   ]
  },
  {
   "cell_type": "code",
   "execution_count": 7,
   "metadata": {},
   "outputs": [],
   "source": [
    "P = -50\n",
    "E = 1000\n",
    "nu = 0.3\n",
    "L = 24\n",
    "h = 8\n",
    "I = 42.67\n",
    "analytic = True\n",
    "niter = 8\n",
    "err = np.zeros((niter))\n",
    "mats = np.array([[E, nu], [E, nu]])\n",
    "fname = \"error_vs_h.txt\"\n",
    "fid = open(fname, \"w\")\n",
    "fid.write(\"Iteration, Elements, h, error\\n\")\n",
    "fid.close()"
   ]
  },
  {
   "cell_type": "code",
   "execution_count": 8,
   "metadata": {},
   "outputs": [],
   "source": [
    "# y, x = np.mgrid[-4:4:(3)*1j, -12:12:(13)*1j]\n"
   ]
  },
  {
   "cell_type": "markdown",
   "metadata": {},
   "source": [
    "Notice that in the finite elment models the load is applied as nodal point loads of the same magnitud distributed along all the nodes at $x=-12$. This implies a uniform load distribution instead of the parabolic load that is consistent with the shear stress in the analytic solution."
   ]
  },
  {
   "cell_type": "code",
   "execution_count": 12,
   "metadata": {},
   "outputs": [
    {
     "name": "stdout",
     "output_type": "stream",
     "text": [
      "Starting iteration 1, h=8, 3 elements\n",
      "[[ 0  1  2  3  8  9  6  7  0  0  0  0  0  0  0  0  0  0]\n",
      " [ 2  3  4 -1 10 11  8  9  0  0  0  0  0  0  0  0  0  0]\n",
      " [ 4 -1 -1  5 -1 12 10 11  0  0  0  0  0  0  0  0  0  0]]\n",
      "Starting iteration 2, h=4, 12 elements\n",
      "[[ 0  1  2  3 15 16 13 14  0  0  0  0  0  0  0  0  0  0]\n",
      " [ 2  3  4  5 17 18 15 16  0  0  0  0  0  0  0  0  0  0]\n",
      " [ 4  5  6  7 19 20 17 18  0  0  0  0  0  0  0  0  0  0]\n",
      " [ 6  7  8  9 21 -1 19 20  0  0  0  0  0  0  0  0  0  0]\n",
      " [ 8  9 10 11 22 23 21 -1  0  0  0  0  0  0  0  0  0  0]\n",
      " [10 11 -1 12 -1 24 22 23  0  0  0  0  0  0  0  0  0  0]\n",
      " [13 14 15 16 27 28 25 26  0  0  0  0  0  0  0  0  0  0]\n",
      " [15 16 17 18 29 30 27 28  0  0  0  0  0  0  0  0  0  0]\n",
      " [17 18 19 20 31 32 29 30  0  0  0  0  0  0  0  0  0  0]\n",
      " [19 20 21 -1 33 34 31 32  0  0  0  0  0  0  0  0  0  0]\n",
      " [21 -1 22 23 35 36 33 34  0  0  0  0  0  0  0  0  0  0]\n",
      " [22 23 -1 24 -1 37 35 36  0  0  0  0  0  0  0  0  0  0]]\n",
      "Starting iteration 3, h=2, 48 elements\n",
      "[[  0   1   2   3  27  28  25  26   0   0   0   0   0   0   0   0   0   0]\n",
      " [  2   3   4   5  29  30  27  28   0   0   0   0   0   0   0   0   0   0]\n",
      " [  4   5   6   7  31  32  29  30   0   0   0   0   0   0   0   0   0   0]\n",
      " [  6   7   8   9  33  34  31  32   0   0   0   0   0   0   0   0   0   0]\n",
      " [  8   9  10  11  35  36  33  34   0   0   0   0   0   0   0   0   0   0]\n",
      " [ 10  11  12  13  37  38  35  36   0   0   0   0   0   0   0   0   0   0]\n",
      " [ 12  13  14  15  39  40  37  38   0   0   0   0   0   0   0   0   0   0]\n",
      " [ 14  15  16  17  41  42  39  40   0   0   0   0   0   0   0   0   0   0]\n",
      " [ 16  17  18  19  43  44  41  42   0   0   0   0   0   0   0   0   0   0]\n",
      " [ 18  19  20  21  45  46  43  44   0   0   0   0   0   0   0   0   0   0]\n",
      " [ 20  21  22  23  47  48  45  46   0   0   0   0   0   0   0   0   0   0]\n",
      " [ 22  23  -1  24  -1  49  47  48   0   0   0   0   0   0   0   0   0   0]\n",
      " [ 25  26  27  28  52  53  50  51   0   0   0   0   0   0   0   0   0   0]\n",
      " [ 27  28  29  30  54  55  52  53   0   0   0   0   0   0   0   0   0   0]\n",
      " [ 29  30  31  32  56  57  54  55   0   0   0   0   0   0   0   0   0   0]\n",
      " [ 31  32  33  34  58  59  56  57   0   0   0   0   0   0   0   0   0   0]\n",
      " [ 33  34  35  36  60  61  58  59   0   0   0   0   0   0   0   0   0   0]\n",
      " [ 35  36  37  38  62  63  60  61   0   0   0   0   0   0   0   0   0   0]\n",
      " [ 37  38  39  40  64  65  62  63   0   0   0   0   0   0   0   0   0   0]\n",
      " [ 39  40  41  42  66  67  64  65   0   0   0   0   0   0   0   0   0   0]\n",
      " [ 41  42  43  44  68  -1  66  67   0   0   0   0   0   0   0   0   0   0]\n",
      " [ 43  44  45  46  69  70  68  -1   0   0   0   0   0   0   0   0   0   0]\n",
      " [ 45  46  47  48  71  72  69  70   0   0   0   0   0   0   0   0   0   0]\n",
      " [ 47  48  -1  49  -1  73  71  72   0   0   0   0   0   0   0   0   0   0]\n",
      " [ 50  51  52  53  76  77  74  75   0   0   0   0   0   0   0   0   0   0]\n",
      " [ 52  53  54  55  78  79  76  77   0   0   0   0   0   0   0   0   0   0]\n",
      " [ 54  55  56  57  80  81  78  79   0   0   0   0   0   0   0   0   0   0]\n",
      " [ 56  57  58  59  82  83  80  81   0   0   0   0   0   0   0   0   0   0]\n",
      " [ 58  59  60  61  84  85  82  83   0   0   0   0   0   0   0   0   0   0]\n",
      " [ 60  61  62  63  86  87  84  85   0   0   0   0   0   0   0   0   0   0]\n",
      " [ 62  63  64  65  88  89  86  87   0   0   0   0   0   0   0   0   0   0]\n",
      " [ 64  65  66  67  90  91  88  89   0   0   0   0   0   0   0   0   0   0]\n",
      " [ 66  67  68  -1  92  93  90  91   0   0   0   0   0   0   0   0   0   0]\n",
      " [ 68  -1  69  70  94  95  92  93   0   0   0   0   0   0   0   0   0   0]\n",
      " [ 69  70  71  72  96  97  94  95   0   0   0   0   0   0   0   0   0   0]\n",
      " [ 71  72  -1  73  -1  98  96  97   0   0   0   0   0   0   0   0   0   0]\n",
      " [ 74  75  76  77 101 102  99 100   0   0   0   0   0   0   0   0   0   0]\n",
      " [ 76  77  78  79 103 104 101 102   0   0   0   0   0   0   0   0   0   0]\n",
      " [ 78  79  80  81 105 106 103 104   0   0   0   0   0   0   0   0   0   0]\n",
      " [ 80  81  82  83 107 108 105 106   0   0   0   0   0   0   0   0   0   0]\n",
      " [ 82  83  84  85 109 110 107 108   0   0   0   0   0   0   0   0   0   0]\n",
      " [ 84  85  86  87 111 112 109 110   0   0   0   0   0   0   0   0   0   0]\n",
      " [ 86  87  88  89 113 114 111 112   0   0   0   0   0   0   0   0   0   0]\n",
      " [ 88  89  90  91 115 116 113 114   0   0   0   0   0   0   0   0   0   0]\n",
      " [ 90  91  92  93 117 118 115 116   0   0   0   0   0   0   0   0   0   0]\n",
      " [ 92  93  94  95 119 120 117 118   0   0   0   0   0   0   0   0   0   0]\n",
      " [ 94  95  96  97 121 122 119 120   0   0   0   0   0   0   0   0   0   0]\n",
      " [ 96  97  -1  98  -1 123 121 122   0   0   0   0   0   0   0   0   0   0]]\n",
      "Starting iteration 4, h=1, 192 elements\n",
      "[[  0   1   2 ...   0   0   0]\n",
      " [  2   3   4 ...   0   0   0]\n",
      " [  4   5   6 ...   0   0   0]\n",
      " ...\n",
      " [384 385 386 ...   0   0   0]\n",
      " [386 387 388 ...   0   0   0]\n",
      " [388 389  -1 ...   0   0   0]]\n",
      "Starting iteration 5, h=0.5, 768 elements\n",
      "[[   0    1    2 ...    0    0    0]\n",
      " [   2    3    4 ...    0    0    0]\n",
      " [   4    5    6 ...    0    0    0]\n",
      " ...\n",
      " [1544 1545 1546 ...    0    0    0]\n",
      " [1546 1547 1548 ...    0    0    0]\n",
      " [1548 1549   -1 ...    0    0    0]]\n",
      "Starting iteration 6, h=0.25, 3072 elements\n",
      "[[   0    1    2 ...    0    0    0]\n",
      " [   2    3    4 ...    0    0    0]\n",
      " [   4    5    6 ...    0    0    0]\n",
      " ...\n",
      " [6168 6169 6170 ...    0    0    0]\n",
      " [6170 6171 6172 ...    0    0    0]\n",
      " [6172 6173   -1 ...    0    0    0]]\n",
      "Starting iteration 7, h=0.125, 12288 elements\n",
      "[[    0     1     2 ...     0     0     0]\n",
      " [    2     3     4 ...     0     0     0]\n",
      " [    4     5     6 ...     0     0     0]\n",
      " ...\n",
      " [24632 24633 24634 ...     0     0     0]\n",
      " [24634 24635 24636 ...     0     0     0]\n",
      " [24636 24637    -1 ...     0     0     0]]\n",
      "Starting iteration 8, h=0.0625, 49152 elements\n",
      "[[    0     1     2 ...     0     0     0]\n",
      " [    2     3     4 ...     0     0     0]\n",
      " [    4     5     6 ...     0     0     0]\n",
      " ...\n",
      " [98424 98425 98426 ...     0     0     0]\n",
      " [98426 98427 98428 ...     0     0     0]\n",
      " [98428 98429    -1 ...     0     0     0]]\n"
     ]
    }
   ],
   "source": [
    "for cont in range(1, niter + 1):\n",
    "\n",
    "    print(\"Starting iteration %i, \" % cont + \"h=%g, %i elements\" % (8/2**(cont - 1), 3*4**(cont - 1)))\n",
    "    nx = 3*2**(cont - 1)\n",
    "    ny = 2**(cont - 1)\n",
    "    x, y, els = rect_grid(L, h, nx, ny)\n",
    "    nodes = np.zeros(((nx + 1)*(ny + 1), 5))\n",
    "    nodes[:, 0] = range((nx + 1)*(ny + 1))\n",
    "    nodes[:, 1] = x\n",
    "    nodes[:, 2] = y\n",
    "    nodes[x==L/2, 3] = -1\n",
    "    nodes[nx*(ny//2 + 1) - 1, 4] = -1    \n",
    "    loads = np.zeros((ny + 1, 3))\n",
    "    loads[:, 0] = nodes[x==-L/2, 0]\n",
    "    loads[:, 2] = P/ny\n",
    "    \n",
    "    # Assembly\n",
    "    DME, IBC, neq = ass.DME(nodes, els)\n",
    "    print(DME)\n",
    "    \n",
    "    stiff = ass.assembler(els, mats, nodes, neq, DME)\n",
    "    rhs = ass.loadasem(loads, IBC, neq)\n",
    "    \n",
    "    # Solution\n",
    "    disp = sol.static_sol(stiff, rhs)\n",
    "    disp_comp = pos.complete_disp(IBC, nodes, disp)\n",
    "    \n",
    "    # Interpolation and error evaluation\n",
    "    if cont > 1:\n",
    "        disp_interp = np.column_stack([u_interp, v_interp])\n",
    "        aux = np.linalg.norm(disp_interp - disp_comp)\n",
    "        err[cont - 1] = aux/np.linalg.norm(disp_comp)\n",
    "        fid = open(fname, \"a\")\n",
    "        fid.write(\"%i, %i, %g, %g\\n\" %\n",
    "                 (cont, 3*4**(cont - 1), 8*1/2**(cont - 1), err[cont-1]))\n",
    "        fid.close()\n",
    "    \n",
    "    x_new, y_new, _ = rect_grid(L, h, 2*nx, 2*ny)\n",
    "    u_interp = griddata((x, y), disp_comp[:, 0], (x_new, y_new))\n",
    "    v_interp = griddata((x, y), disp_comp[:, 1], (x_new, y_new))"
   ]
  },
  {
   "cell_type": "code",
   "execution_count": 23,
   "metadata": {},
   "outputs": [
    {
     "data": {
      "text/plain": [
       "array([[    0,     1,     2, ...,     0,     0,     0],\n",
       "       [    2,     3,     4, ...,     0,     0,     0],\n",
       "       [    4,     5,     6, ...,     0,     0,     0],\n",
       "       ...,\n",
       "       [98424, 98425, 98426, ...,     0,     0,     0],\n",
       "       [98426, 98427, 98428, ...,     0,     0,     0],\n",
       "       [98428, 98429,    -1, ...,     0,     0,     0]])"
      ]
     },
     "execution_count": 23,
     "metadata": {},
     "output_type": "execute_result"
    }
   ],
   "source": [
    "DME"
   ]
  },
  {
   "cell_type": "code",
   "execution_count": 13,
   "metadata": {},
   "outputs": [
    {
     "data": {
      "text/plain": [
       "<IPython.core.display.Javascript object>"
      ]
     },
     "execution_count": 0,
     "metadata": {},
     "output_type": "execute_result"
    },
    {
     "data": {
      "text/html": [
       "<div id='6a684049-0b25-49ec-ae7d-0348fed6b5da'></div>"
      ],
      "text/plain": [
       "<div id='6a684049-0b25-49ec-ae7d-0348fed6b5da'></div>"
      ]
     },
     "execution_count": 0,
     "metadata": {},
     "output_type": "execute_result"
    }
   ],
   "source": [
    "data = np.loadtxt(\"error_vs_h.txt\", skiprows=1, delimiter=\",\")\n",
    "els = data[:, 1]\n",
    "h = data[:, 2]\n",
    "err = data[:, 3]\n",
    "fig = plt.figure()\n",
    "ax1 = fig.add_subplot(111)\n",
    "ax1.loglog(h, err, '-bo')\n",
    "plt.xlabel(r\"Element size: $h$\")\n",
    "plt.ylabel(r\"Relative error: $\\frac{\\Vert u - u_h \\Vert}{\\Vert u \\Vert}$\",\n",
    "           fontsize=14)\n",
    "xticks, xlabels = plt.xticks()\n",
    "plt.grid(which=\"both\", alpha=0.3, lw=0.5)\n",
    "ax2 = ax1.twiny()\n",
    "ax2.set_xscale(\"log\")\n",
    "ax2.set_xlim(ax1.get_xlim())\n",
    "ax2.set_xticks(xticks[1:-1])\n",
    "labels = 192/4**np.log2(xticks[1:-1])\n",
    "ax2.set_xticklabels([\"%g\"%label for label in labels])\n",
    "ax2.xaxis.set_ticks_position(\"none\")\n",
    "plt.xlabel(\"Number of elements\")\n",
    "plt.tight_layout()"
   ]
  },
  {
   "cell_type": "code",
   "execution_count": null,
   "metadata": {},
   "outputs": [],
   "source": []
  },
  {
   "cell_type": "markdown",
   "metadata": {},
   "source": [
    "## Refences\n",
    "\n",
    "1. Timoshenko, S. P. J. N. \"Goodier, Theory of elasticity.\" McGraw-Hill Book Co., Inc., New York (1970)."
   ]
  },
  {
   "cell_type": "markdown",
   "metadata": {},
   "source": [
    "The following cell gives format to the notebook."
   ]
  },
  {
   "cell_type": "code",
   "execution_count": 16,
   "metadata": {},
   "outputs": [
    {
     "data": {
      "text/html": [
       "\n",
       "<link href='http://fonts.googleapis.com/css?family=Fenix' rel='stylesheet' type='text/css'>\n",
       "<link href='http://fonts.googleapis.com/css?family=Alegreya+Sans:100,300,400,500,700,800,900,100italic,300italic,400italic,500italic,700italic,800italic,900italic' rel='stylesheet' type='text/css'>\n",
       "<link href='http://fonts.googleapis.com/css?family=Source+Code+Pro:300,400' rel='stylesheet' type='text/css'>\n",
       "<style>\n",
       "/* Based on Lorena Barba template available at: https://github.com/barbagroup/AeroPython/blob/master/styles/custom.css*/\n",
       "@font-face {\n",
       "font-family: \"Computer Modern\";\n",
       "src: url('http://mirrors.ctan.org/fonts/cm-unicode/fonts/otf/cmunss.otf');\n",
       "}\n",
       "div.cell{\n",
       "width:800px;\n",
       "margin-left:16% !important;\n",
       "margin-right:auto;\n",
       "}\n",
       "h1 {\n",
       "font-family: 'Alegreya Sans', sans-serif;\n",
       "}\n",
       "h2 {\n",
       "font-family: 'Fenix', serif;\n",
       "}\n",
       "h3{\n",
       "font-family: 'Fenix', serif;\n",
       "margin-top:12px;\n",
       "margin-bottom: 3px;\n",
       "}\n",
       "h4{\n",
       "font-family: 'Fenix', serif;\n",
       "}\n",
       "h5 {\n",
       "font-family: 'Alegreya Sans', sans-serif;\n",
       "}\t\n",
       "div.text_cell_render{\n",
       "font-family: 'Alegreya Sans',Computer Modern, \"Helvetica Neue\", Arial, Helvetica, Geneva, sans-serif;\n",
       "line-height: 135%;\n",
       "font-size: 120%;\n",
       "width:600px;\n",
       "margin-left:auto;\n",
       "margin-right:auto;\n",
       "}\n",
       ".CodeMirror{\n",
       "font-family: \"Source Code Pro\";\n",
       "font-size: 90%;\n",
       "}\n",
       "/* .prompt{\n",
       "display: None;\n",
       "}*/\n",
       ".text_cell_render h1 {\n",
       "font-weight: 200;\n",
       "font-size: 50pt;\n",
       "line-height: 100%;\n",
       "color:#CD2305;\n",
       "margin-bottom: 0.5em;\n",
       "margin-top: 0.5em;\n",
       "display: block;\n",
       "}\t\n",
       ".text_cell_render h5 {\n",
       "font-weight: 300;\n",
       "font-size: 16pt;\n",
       "color: #CD2305;\n",
       "font-style: italic;\n",
       "margin-bottom: .5em;\n",
       "margin-top: 0.5em;\n",
       "display: block;\n",
       "}\n",
       ".warning{\n",
       "color: rgb( 240, 20, 20 )\n",
       "}\n",
       "</style>\n",
       "<script>\n",
       "MathJax.Hub.Config({\n",
       "TeX: {\n",
       "extensions: [\"AMSmath.js\"]\n",
       "},\n",
       "tex2jax: {\n",
       "inlineMath: [ ['$','$'], [\"\\\\(\",\"\\\\)\"] ],\n",
       "displayMath: [ ['$$','$$'], [\"\\\\[\",\"\\\\]\"] ]\n",
       "},\n",
       "displayAlign: 'center', // Change this to 'center' to center equations.\n",
       "\"HTML-CSS\": {\n",
       "styles: {'.MathJax_Display': {\"margin\": 4}}\n",
       "}\n",
       "});\n",
       "</script>\n",
       "\n"
      ],
      "text/plain": [
       "\n",
       "<link href='http://fonts.googleapis.com/css?family=Fenix' rel='stylesheet' type='text/css'>\n",
       "<link href='http://fonts.googleapis.com/css?family=Alegreya+Sans:100,300,400,500,700,800,900,100italic,300italic,400italic,500italic,700italic,800italic,900italic' rel='stylesheet' type='text/css'>\n",
       "<link href='http://fonts.googleapis.com/css?family=Source+Code+Pro:300,400' rel='stylesheet' type='text/css'>\n",
       "<style>\n",
       "/* Based on Lorena Barba template available at: https://github.com/barbagroup/AeroPython/blob/master/styles/custom.css*/\n",
       "@font-face {\n",
       "font-family: \"Computer Modern\";\n",
       "src: url('http://mirrors.ctan.org/fonts/cm-unicode/fonts/otf/cmunss.otf');\n",
       "}\n",
       "div.cell{\n",
       "width:800px;\n",
       "margin-left:16% !important;\n",
       "margin-right:auto;\n",
       "}\n",
       "h1 {\n",
       "font-family: 'Alegreya Sans', sans-serif;\n",
       "}\n",
       "h2 {\n",
       "font-family: 'Fenix', serif;\n",
       "}\n",
       "h3{\n",
       "font-family: 'Fenix', serif;\n",
       "margin-top:12px;\n",
       "margin-bottom: 3px;\n",
       "}\n",
       "h4{\n",
       "font-family: 'Fenix', serif;\n",
       "}\n",
       "h5 {\n",
       "font-family: 'Alegreya Sans', sans-serif;\n",
       "}\t\n",
       "div.text_cell_render{\n",
       "font-family: 'Alegreya Sans',Computer Modern, \"Helvetica Neue\", Arial, Helvetica, Geneva, sans-serif;\n",
       "line-height: 135%;\n",
       "font-size: 120%;\n",
       "width:600px;\n",
       "margin-left:auto;\n",
       "margin-right:auto;\n",
       "}\n",
       ".CodeMirror{\n",
       "font-family: \"Source Code Pro\";\n",
       "font-size: 90%;\n",
       "}\n",
       "/* .prompt{\n",
       "display: None;\n",
       "}*/\n",
       ".text_cell_render h1 {\n",
       "font-weight: 200;\n",
       "font-size: 50pt;\n",
       "line-height: 100%;\n",
       "color:#CD2305;\n",
       "margin-bottom: 0.5em;\n",
       "margin-top: 0.5em;\n",
       "display: block;\n",
       "}\t\n",
       ".text_cell_render h5 {\n",
       "font-weight: 300;\n",
       "font-size: 16pt;\n",
       "color: #CD2305;\n",
       "font-style: italic;\n",
       "margin-bottom: .5em;\n",
       "margin-top: 0.5em;\n",
       "display: block;\n",
       "}\n",
       ".warning{\n",
       "color: rgb( 240, 20, 20 )\n",
       "}\n",
       "</style>\n",
       "<script>\n",
       "MathJax.Hub.Config({\n",
       "TeX: {\n",
       "extensions: [\"AMSmath.js\"]\n",
       "},\n",
       "tex2jax: {\n",
       "inlineMath: [ ['$','$'], [\"\\\\(\",\"\\\\)\"] ],\n",
       "displayMath: [ ['$$','$$'], [\"\\\\[\",\"\\\\]\"] ]\n",
       "},\n",
       "displayAlign: 'center', // Change this to 'center' to center equations.\n",
       "\"HTML-CSS\": {\n",
       "styles: {'.MathJax_Display': {\"margin\": 4}}\n",
       "}\n",
       "});\n",
       "</script>\n",
       "\n"
      ]
     },
     "execution_count": 16,
     "metadata": {},
     "output_type": "execute_result"
    }
   ],
   "source": [
    "from IPython.core.display import HTML\n",
    "def css_styling():\n",
    "    styles = open('/Users/yashgandhe/Coding/SolidsPy/examples/custom_barba.css', 'r').read()\n",
    "    return HTML(styles)\n",
    "css_styling()"
   ]
  },
  {
   "cell_type": "code",
   "execution_count": null,
   "metadata": {},
   "outputs": [],
   "source": []
  }
 ],
 "metadata": {
  "anaconda-cloud": {},
  "kernelspec": {
   "display_name": "Python 3",
   "language": "python",
   "name": "python3"
  },
  "language_info": {
   "codemirror_mode": {
    "name": "ipython",
    "version": 3
   },
   "file_extension": ".py",
   "mimetype": "text/x-python",
   "name": "python",
   "nbconvert_exporter": "python",
   "pygments_lexer": "ipython3",
   "version": "3.7.1"
  }
 },
 "nbformat": 4,
 "nbformat_minor": 2
}
